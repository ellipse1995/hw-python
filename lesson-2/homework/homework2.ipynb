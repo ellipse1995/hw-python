{
 "cells": [
  {
   "cell_type": "code",
   "execution_count": 6,
   "id": "3a798116",
   "metadata": {},
   "outputs": [
    {
     "name": "stdout",
     "output_type": "stream",
     "text": [
      "Asror, now you are 30 years old\n"
     ]
    }
   ],
   "source": [
    "#1. Age Calculator\n",
    "#Write a Python program to ask for a user's name and year of birth, then calculate and display their age.\n",
    "\n",
    "name = input('Write your name')\n",
    "year_of_birth = int(input('Wirte your year of birth'))\n",
    "print(f'{name}, now you are {2025-year_of_birth} years old')"
   ]
  },
  {
   "cell_type": "code",
   "execution_count": 12,
   "id": "16080685",
   "metadata": {},
   "outputs": [
    {
     "name": "stdout",
     "output_type": "stream",
     "text": [
      "Lasetti\n",
      "Malibu\n"
     ]
    }
   ],
   "source": [
    "#2. Extract Car Names\n",
    "#Extract car names from the following text:\n",
    "#txt = 'LMaasleitbtui'\n",
    "txt='LMaasleitbtui'\n",
    "print(txt[::2])\n",
    "print(txt[1::2])"
   ]
  },
  {
   "cell_type": "code",
   "execution_count": 13,
   "id": "c0a68511",
   "metadata": {},
   "outputs": [
    {
     "name": "stdout",
     "output_type": "stream",
     "text": [
      "Matiz\n",
      "Damas\n"
     ]
    }
   ],
   "source": [
    "#3. Extract Car Names\n",
    "#Extract car names from the following text:\n",
    "\n",
    "#txt = 'MsaatmiazD'\n",
    "txt = 'MsaatmiazD'\n",
    "print(txt[::2])\n",
    "print(txt[::-2])"
   ]
  },
  {
   "cell_type": "code",
   "execution_count": null,
   "id": "0a48ad62",
   "metadata": {},
   "outputs": [
    {
     "name": "stdout",
     "output_type": "stream",
     "text": [
      "John is from London\n"
     ]
    }
   ],
   "source": [
    "#4. Extract Residence Area\n",
    "#Extract the residence area from the following text:\n",
    "#txt = \"I'am John. I am from London\"\n",
    "\n",
    "txt = \"I'am John. I am from London\"\n",
    "print('John is from', txt[txt.find(\"from\")+5::])\n"
   ]
  },
  {
   "cell_type": "code",
   "execution_count": 22,
   "id": "747d440d",
   "metadata": {},
   "outputs": [
    {
     "name": "stdout",
     "output_type": "stream",
     "text": [
      "aled kak tevirp\n"
     ]
    }
   ],
   "source": [
    "#5. Reverse String\n",
    "#Write a Python program that takes a user input string and prints it in reverse order.\n",
    "\n",
    "inputtext = input('Введите любое слово, и оно выйдет в обратном порядке')\n",
    "print(inputtext[::-1])\n"
   ]
  },
  {
   "cell_type": "code",
   "execution_count": 78,
   "id": "5ed1ec78",
   "metadata": {},
   "outputs": [
    {
     "name": "stdout",
     "output_type": "stream",
     "text": [
      "0\n"
     ]
    }
   ],
   "source": [
    "#6. Count Vowels\n",
    "#Write a Python program that counts the number of vowels in a given string.\n",
    "\n",
    "txt = input(\"Введите любое слово на латинице, программа посчитает гласные\")\n",
    "vowel = 'a,i,o,e,u'\n",
    "vovel = vowel.split(',')\n",
    "count = 0\n",
    "for i in txt:\n",
    "    if txt in vovel:\n",
    "        count+=1\n",
    "print(count)\n",
    "\n"
   ]
  },
  {
   "cell_type": "code",
   "execution_count": 76,
   "id": "196d89f3",
   "metadata": {},
   "outputs": [
    {
     "name": "stdout",
     "output_type": "stream",
     "text": [
      "ab\n"
     ]
    }
   ],
   "source": [
    "#7. Find Maximum Value\n",
    "#Write a Python program that takes a list of numbers as input and prints the maximum value.\n",
    "\n",
    "listt = input('Введите лист цифр через пробел')\n",
    "splitted = max(listt.split())\n",
    "print (splitted)\n"
   ]
  },
  {
   "cell_type": "code",
   "execution_count": 77,
   "id": "40dc57ac",
   "metadata": {},
   "outputs": [],
   "source": [
    "#8. Check Palindrome\n",
    "#Write a Python program that checks if a given word is a palindrome (reads the same forward and backward)."
   ]
  },
  {
   "cell_type": "code",
   "execution_count": 81,
   "id": "e5a7c0e8",
   "metadata": {},
   "outputs": [
    {
     "name": "stdout",
     "output_type": "stream",
     "text": [
      "it-park.uz\n"
     ]
    }
   ],
   "source": [
    "#9. Extract Email Domain\n",
    "#Write a Python program that extracts and prints the domain from an email address provided by the user.\n",
    "\n",
    "email = input(\"Введите свой email\")\n",
    "print(email[email.find('@')+1::])"
   ]
  },
  {
   "cell_type": "code",
   "execution_count": null,
   "id": "acab49ef",
   "metadata": {},
   "outputs": [],
   "source": [
    "#10. Generate Random Password\n",
    "#Write a Python program to generate a random password containing letters, digits, and special characters."
   ]
  }
 ],
 "metadata": {
  "kernelspec": {
   "display_name": "Python 3",
   "language": "python",
   "name": "python3"
  },
  "language_info": {
   "codemirror_mode": {
    "name": "ipython",
    "version": 3
   },
   "file_extension": ".py",
   "mimetype": "text/x-python",
   "name": "python",
   "nbconvert_exporter": "python",
   "pygments_lexer": "ipython3",
   "version": "3.13.7"
  }
 },
 "nbformat": 4,
 "nbformat_minor": 5
}
